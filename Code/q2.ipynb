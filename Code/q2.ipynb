{
 "cells": [
  {
   "cell_type": "code",
   "execution_count": 1,
   "metadata": {},
   "outputs": [],
   "source": [
    "import pandas as pd"
   ]
  },
  {
   "cell_type": "code",
   "execution_count": 2,
   "metadata": {},
   "outputs": [
    {
     "name": "stdout",
     "output_type": "stream",
     "text": [
      "Number of Nodes: 81306\n",
      "Number of Edges: 2420766\n"
     ]
    }
   ],
   "source": [
    "def getNodesEdges(filename):\n",
    "    \"\"\"\n",
    "    Get nodes and edges from a file\n",
    "    \"\"\"\n",
    "    nodes = set()\n",
    "    edges = []\n",
    "    with open(filename, 'r') as f:\n",
    "        for line in f:\n",
    "            src, dst = line.strip().split(' ')\n",
    "            nodes.add(src)\n",
    "            nodes.add(dst)\n",
    "            edges.append((src, dst))\n",
    "    print(\"Number of Nodes:\", len(nodes))\n",
    "    print(\"Number of Edges:\", len(edges))\n",
    "    return nodes, edges\n",
    "    \n",
    "    \n",
    "nodes, edges = getNodesEdges(\"../Data/twitter_combined.txt\")"
   ]
  },
  {
   "cell_type": "code",
   "execution_count": 3,
   "metadata": {},
   "outputs": [],
   "source": [
    "def calculatePageRank(nodes, edges, dampingFactor=0.85, iterations=10):\n",
    "    \"\"\"\n",
    "    Calculate the PageRank of each node\n",
    "    \"\"\"\n",
    "    # Initialize the page rank dictionary with 1/N for all nodes\n",
    "    pageRank = {node: 1/len(nodes) for node in nodes}\n",
    "    # Iterate 'iterations' times\n",
    "    for i in range(iterations):\n",
    "        print(\"Iteration\", i)\n",
    "        # Create a dictionary of outgoing links with default 0\n",
    "        links = {node: 0 for node in nodes}\n",
    "        # Count how many links point from each node\n",
    "        for src, dst in edges:\n",
    "            links[src] += 1\n",
    "        # Calculate the page rank of each node\n",
    "        for node in nodes:\n",
    "            # Calculate the part of the equation where the dangling nodes come in\n",
    "            if links[node] == 0:\n",
    "                pageRank[node] = (1 - dampingFactor) / len(nodes)\n",
    "            else:\n",
    "                # Calculate the part of the equation where the links come in\n",
    "                pageRank[node] = (1 - dampingFactor) / len(nodes) + dampingFactor * sum(pageRank[dst] / links[dst] for dst in nodes if links[dst] != 0)\n",
    "    return pageRank\n",
    "\n",
    "def calculateAuthorityScore(nodes, edges, dampingFactor=0.85, iterations=10):\n",
    "    \"\"\"\n",
    "    Calculate the Authority Score of each node\n",
    "    \"\"\"\n",
    "    # Initialize the page rank dictionary with 1/N for all nodes\n",
    "    authorityScore = {node: 1/len(nodes) for node in nodes}\n",
    "    # Iterate 'iterations' times\n",
    "    for i in range(iterations):\n",
    "        print(\"Iteration\", i)\n",
    "        # Create a dictionary of incoming links with default 0\n",
    "        links = {node: 0 for node in nodes}\n",
    "        # Count how many links point to each node\n",
    "        for src, dst in edges:\n",
    "            links[dst] += 1\n",
    "        # Calculate the authority score of each node\n",
    "        for node in nodes:\n",
    "            # Calculate the part of the equation where the dangling nodes come in\n",
    "            if links[node] == 0:\n",
    "                authorityScore[node] = (1 - dampingFactor) / len(nodes)\n",
    "            else:\n",
    "                # Calculate the part of the equation where the links come in\n",
    "                authorityScore[node] = (1 - dampingFactor) / len(nodes) + dampingFactor * sum(authorityScore[src] / links[src] for src in nodes if links[src] != 0)\n",
    "    return authorityScore\n",
    "\n",
    "def calculateHubScore(nodes, edges, dampingFactor=0.85, iterations=10):\n",
    "    \"\"\"\n",
    "    Calculate the Hub Score of each node\n",
    "    \"\"\"\n",
    "    # Initialize the page rank dictionary with 1/N for all nodes\n",
    "    hubScore = {node: 1/len(nodes) for node in nodes}\n",
    "    # Iterate 'iterations' times\n",
    "    for i in range(iterations):\n",
    "        print(\"Iteration\", i)\n",
    "        # Create a dictionary of outgoing links with default 0\n",
    "        links = {node: 0 for node in nodes}\n",
    "        # Count how many links point from each node\n",
    "        for src, dst in edges:\n",
    "            links[src] += 1\n",
    "        # Calculate the hub score of each node\n",
    "        for node in nodes:\n",
    "            # Calculate the part of the equation where the dangling nodes come in\n",
    "            if links[node] == 0:\n",
    "                hubScore[node] = (1 - dampingFactor) / len(nodes)\n",
    "            else:\n",
    "                # Calculate the part of the equation where the links come in\n",
    "                hubScore[node] = (1 - dampingFactor) / len(nodes) + dampingFactor * sum(hubScore[dst] / links[dst] for dst in nodes if links[dst] != 0)\n",
    "    return hubScore"
   ]
  },
  {
   "cell_type": "code",
   "execution_count": 3,
   "metadata": {},
   "outputs": [
    {
     "data": {
      "text/plain": [
       "(1768149, 81306)"
      ]
     },
     "execution_count": 3,
     "metadata": {},
     "output_type": "execute_result"
    }
   ],
   "source": [
    "import networkx as nx\n",
    "\n",
    "G = nx.DiGraph()\n",
    "G.add_nodes_from(nodes)\n",
    "G.add_edges_from(edges)\n",
    "G.number_of_edges(), G.number_of_nodes()"
   ]
  },
  {
   "cell_type": "code",
   "execution_count": 6,
   "metadata": {},
   "outputs": [],
   "source": [
    "pr = nx.pagerank(G)"
   ]
  },
  {
   "cell_type": "code",
   "execution_count": 7,
   "metadata": {},
   "outputs": [],
   "source": [
    "auth, hub = nx.hits(G)"
   ]
  },
  {
   "cell_type": "code",
   "execution_count": 31,
   "metadata": {},
   "outputs": [
    {
     "data": {
      "text/html": [
       "<div>\n",
       "<style scoped>\n",
       "    .dataframe tbody tr th:only-of-type {\n",
       "        vertical-align: middle;\n",
       "    }\n",
       "\n",
       "    .dataframe tbody tr th {\n",
       "        vertical-align: top;\n",
       "    }\n",
       "\n",
       "    .dataframe thead th {\n",
       "        text-align: right;\n",
       "    }\n",
       "</style>\n",
       "<table border=\"1\" class=\"dataframe\">\n",
       "  <thead>\n",
       "    <tr style=\"text-align: right;\">\n",
       "      <th></th>\n",
       "      <th>Node</th>\n",
       "      <th>PageRank</th>\n",
       "      <th>Authority</th>\n",
       "      <th>Hub</th>\n",
       "    </tr>\n",
       "  </thead>\n",
       "  <tbody>\n",
       "    <tr>\n",
       "      <th>0</th>\n",
       "      <td>237549687</td>\n",
       "      <td>0.000007</td>\n",
       "      <td>9.428041e-10</td>\n",
       "      <td>2.217143e-08</td>\n",
       "    </tr>\n",
       "    <tr>\n",
       "      <th>1</th>\n",
       "      <td>30282591</td>\n",
       "      <td>0.000007</td>\n",
       "      <td>7.300283e-07</td>\n",
       "      <td>7.408863e-08</td>\n",
       "    </tr>\n",
       "    <tr>\n",
       "      <th>2</th>\n",
       "      <td>195525248</td>\n",
       "      <td>0.000007</td>\n",
       "      <td>-0.000000e+00</td>\n",
       "      <td>6.523077e-06</td>\n",
       "    </tr>\n",
       "    <tr>\n",
       "      <th>3</th>\n",
       "      <td>243948079</td>\n",
       "      <td>0.000005</td>\n",
       "      <td>1.217251e-07</td>\n",
       "      <td>7.868463e-08</td>\n",
       "    </tr>\n",
       "    <tr>\n",
       "      <th>4</th>\n",
       "      <td>14775687</td>\n",
       "      <td>0.000003</td>\n",
       "      <td>7.749603e-07</td>\n",
       "      <td>2.379318e-07</td>\n",
       "    </tr>\n",
       "    <tr>\n",
       "      <th>...</th>\n",
       "      <td>...</td>\n",
       "      <td>...</td>\n",
       "      <td>...</td>\n",
       "      <td>...</td>\n",
       "    </tr>\n",
       "    <tr>\n",
       "      <th>81301</th>\n",
       "      <td>301282103</td>\n",
       "      <td>0.000032</td>\n",
       "      <td>3.981997e-08</td>\n",
       "      <td>8.626182e-08</td>\n",
       "    </tr>\n",
       "    <tr>\n",
       "      <th>81302</th>\n",
       "      <td>231921253</td>\n",
       "      <td>0.000006</td>\n",
       "      <td>1.858956e-04</td>\n",
       "      <td>1.928180e-04</td>\n",
       "    </tr>\n",
       "    <tr>\n",
       "      <th>81303</th>\n",
       "      <td>19993335</td>\n",
       "      <td>0.000039</td>\n",
       "      <td>3.544525e-06</td>\n",
       "      <td>3.147708e-06</td>\n",
       "    </tr>\n",
       "    <tr>\n",
       "      <th>81304</th>\n",
       "      <td>104812895</td>\n",
       "      <td>0.000003</td>\n",
       "      <td>3.265793e-10</td>\n",
       "      <td>5.715282e-09</td>\n",
       "    </tr>\n",
       "    <tr>\n",
       "      <th>81305</th>\n",
       "      <td>17492938</td>\n",
       "      <td>0.000003</td>\n",
       "      <td>-0.000000e+00</td>\n",
       "      <td>7.163139e-11</td>\n",
       "    </tr>\n",
       "  </tbody>\n",
       "</table>\n",
       "<p>81306 rows × 4 columns</p>\n",
       "</div>"
      ],
      "text/plain": [
       "            Node  PageRank     Authority           Hub\n",
       "0      237549687  0.000007  9.428041e-10  2.217143e-08\n",
       "1       30282591  0.000007  7.300283e-07  7.408863e-08\n",
       "2      195525248  0.000007 -0.000000e+00  6.523077e-06\n",
       "3      243948079  0.000005  1.217251e-07  7.868463e-08\n",
       "4       14775687  0.000003  7.749603e-07  2.379318e-07\n",
       "...          ...       ...           ...           ...\n",
       "81301  301282103  0.000032  3.981997e-08  8.626182e-08\n",
       "81302  231921253  0.000006  1.858956e-04  1.928180e-04\n",
       "81303   19993335  0.000039  3.544525e-06  3.147708e-06\n",
       "81304  104812895  0.000003  3.265793e-10  5.715282e-09\n",
       "81305   17492938  0.000003 -0.000000e+00  7.163139e-11\n",
       "\n",
       "[81306 rows x 4 columns]"
      ]
     },
     "execution_count": 31,
     "metadata": {},
     "output_type": "execute_result"
    }
   ],
   "source": [
    "# dataframe for combined results\n",
    "combined = pd.DataFrame(columns=['Node', 'PageRank', 'Authority', 'Hub'])\n",
    "combined['Node'] = pd.Series(pr.keys())\n",
    "combined['PageRank'] = pd.Series(pr.values())\n",
    "combined['Authority'] = pd.Series(auth.values())\n",
    "combined['Hub'] = pd.Series(hub.values())\n",
    "combined\n"
   ]
  },
  {
   "cell_type": "code",
   "execution_count": 32,
   "metadata": {},
   "outputs": [
    {
     "data": {
      "text/plain": [
       "<matplotlib.legend.Legend at 0x7feb8b77a070>"
      ]
     },
     "execution_count": 32,
     "metadata": {},
     "output_type": "execute_result"
    },
    {
     "data": {
      "image/png": "[encoded data removed]",
      "text/plain": [
       "<Figure size 432x288 with 1 Axes>"
      ]
     },
     "metadata": {
      "needs_background": "light"
     },
     "output_type": "display_data"
    }
   ],
   "source": [
    "import matplotlib.pyplot as plt\n",
    "window_start = 100\n",
    "window_end = 120\n",
    "plt.plot(range(len(nodes))[window_start:window_end], combined['PageRank'][window_start:window_end], label='PageRank')\n",
    "plt.plot(range(len(nodes))[window_start:window_end], combined['Authority'][window_start:window_end], label='Authority')\n",
    "plt.plot(range(len(nodes))[window_start:window_end], combined['Hub'][window_start:window_end], label='Hub')\n",
    "plt.legend()"
   ]
  },
  {
   "cell_type": "code",
   "execution_count": null,
   "metadata": {},
   "outputs": [],
   "source": []
  }
 ],
 "metadata": {
  "interpreter": {
   "hash": "ecbb0100d1afdd2500b7e44462920f8a5c3170e79139b35521f055287792d739"
  },
  "kernelspec": {
   "display_name": "Python 3.9.2 ('sw')",
   "language": "python",
   "name": "python3"
  },
  "language_info": {
   "codemirror_mode": {
    "name": "ipython",
    "version": 3
   },
   "file_extension": ".py",
   "mimetype": "text/x-python",
   "name": "python",
   "nbconvert_exporter": "python",
   "pygments_lexer": "ipython3",
   "version": "3.8.5"
  },
  "orig_nbformat": 4
 },
 "nbformat": 4,
 "nbformat_minor": 2
}
