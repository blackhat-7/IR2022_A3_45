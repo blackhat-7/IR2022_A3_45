{
 "cells": [
  {
   "cell_type": "code",
   "execution_count": null,
   "metadata": {},
   "outputs": [],
   "source": [
    "import pandas as pd"
   ]
  },
  {
   "cell_type": "code",
   "execution_count": 1,
   "metadata": {},
   "outputs": [
    {
     "name": "stdout",
     "output_type": "stream",
     "text": [
      "Number of Nodes: 81306\n",
      "Number of Edges: 2420766\n"
     ]
    }
   ],
   "source": [
    "def getNodesEdges(filename):\n",
    "    \"\"\"\n",
    "    Get nodes and edges from a file\n",
    "    \"\"\"\n",
    "    nodes = set()\n",
    "    edges = []\n",
    "    with open(filename, 'r') as f:\n",
    "        for line in f:\n",
    "            src, dst = line.strip().split(' ')\n",
    "            nodes.add(src)\n",
    "            nodes.add(dst)\n",
    "            edges.append((src, dst))\n",
    "    print(\"Number of Nodes:\", len(nodes))\n",
    "    print(\"Number of Edges:\", len(edges))\n",
    "    return nodes, edges\n",
    "    \n",
    "    \n",
    "nodes, edges = getNodesEdges(\"../Data/twitter_combined.txt\")"
   ]
  },
  {
   "cell_type": "code",
   "execution_count": 2,
   "metadata": {},
   "outputs": [],
   "source": [
    "def calculatePageRank(nodes, edges, dampingFactor=0.85, iterations=10):\n",
    "    \"\"\"\n",
    "    Calculate the PageRank of each node\n",
    "    \"\"\"\n",
    "    # Initialize the page rank dictionary with 1/N for all nodes\n",
    "    pageRank = {node: 1/len(nodes) for node in nodes}\n",
    "    # Iterate 'iterations' times\n",
    "    for i in range(iterations):\n",
    "        print(\"Iteration\", i)\n",
    "        # Create a dictionary of outgoing links with default 0\n",
    "        links = {node: 0 for node in nodes}\n",
    "        # Count how many links point from each node\n",
    "        for src, dst in edges:\n",
    "            links[src] += 1\n",
    "        # Calculate the page rank of each node\n",
    "        for node in nodes:\n",
    "            # Calculate the part of the equation where the dangling nodes come in\n",
    "            if links[node] == 0:\n",
    "                pageRank[node] = (1 - dampingFactor) / len(nodes)\n",
    "            else:\n",
    "                # Calculate the part of the equation where the links come in\n",
    "                pageRank[node] = (1 - dampingFactor) / len(nodes) + dampingFactor * sum(pageRank[dst] / links[dst] for dst in nodes if links[dst] != 0)\n",
    "    return pageRank\n",
    "\n",
    "def calculateAuthorityScore(nodes, edges, dampingFactor=0.85, iterations=10):\n",
    "    \"\"\"\n",
    "    Calculate the Authority Score of each node\n",
    "    \"\"\"\n",
    "    # Initialize the page rank dictionary with 1/N for all nodes\n",
    "    authorityScore = {node: 1/len(nodes) for node in nodes}\n",
    "    # Iterate 'iterations' times\n",
    "    for i in range(iterations):\n",
    "        print(\"Iteration\", i)\n",
    "        # Create a dictionary of incoming links with default 0\n",
    "        links = {node: 0 for node in nodes}\n",
    "        # Count how many links point to each node\n",
    "        for src, dst in edges:\n",
    "            links[dst] += 1\n",
    "        # Calculate the authority score of each node\n",
    "        for node in nodes:\n",
    "            # Calculate the part of the equation where the dangling nodes come in\n",
    "            if links[node] == 0:\n",
    "                authorityScore[node] = (1 - dampingFactor) / len(nodes)\n",
    "            else:\n",
    "                # Calculate the part of the equation where the links come in\n",
    "                authorityScore[node] = (1 - dampingFactor) / len(nodes) + dampingFactor * sum(authorityScore[src] / links[src] for src in nodes if links[src] != 0)\n",
    "    return authorityScore\n",
    "\n",
    "def calculateHubScore(nodes, edges, dampingFactor=0.85, iterations=10):\n",
    "    \"\"\"\n",
    "    Calculate the Hub Score of each node\n",
    "    \"\"\"\n",
    "    # Initialize the page rank dictionary with 1/N for all nodes\n",
    "    hubScore = {node: 1/len(nodes) for node in nodes}\n",
    "    # Iterate 'iterations' times\n",
    "    for i in range(iterations):\n",
    "        print(\"Iteration\", i)\n",
    "        # Create a dictionary of outgoing links with default 0\n",
    "        links = {node: 0 for node in nodes}\n",
    "        # Count how many links point from each node\n",
    "        for src, dst in edges:\n",
    "            links[src] += 1\n",
    "        # Calculate the hub score of each node\n",
    "        for node in nodes:\n",
    "            # Calculate the part of the equation where the dangling nodes come in\n",
    "            if links[node] == 0:\n",
    "                hubScore[node] = (1 - dampingFactor) / len(nodes)\n",
    "            else:\n",
    "                # Calculate the part of the equation where the links come in\n",
    "                hubScore[node] = (1 - dampingFactor) / len(nodes) + dampingFactor * sum(hubScore[dst] / links[dst] for dst in nodes if links[dst] != 0)\n",
    "    return hubScore"
   ]
  },
  {
   "cell_type": "code",
   "execution_count": null,
   "metadata": {},
   "outputs": [],
   "source": [
    "calculatePageRank(nodes, edges)"
   ]
  },
  {
   "cell_type": "code",
   "execution_count": null,
   "metadata": {},
   "outputs": [],
   "source": []
  }
 ],
 "metadata": {
  "interpreter": {
   "hash": "ecbb0100d1afdd2500b7e44462920f8a5c3170e79139b35521f055287792d739"
  },
  "kernelspec": {
   "display_name": "Python 3.9.2 ('sw')",
   "language": "python",
   "name": "python3"
  },
  "language_info": {
   "codemirror_mode": {
    "name": "ipython",
    "version": 3
   },
   "file_extension": ".py",
   "mimetype": "text/x-python",
   "name": "python",
   "nbconvert_exporter": "python",
   "pygments_lexer": "ipython3",
   "version": "3.9.2"
  },
  "orig_nbformat": 4
 },
 "nbformat": 4,
 "nbformat_minor": 2
}
