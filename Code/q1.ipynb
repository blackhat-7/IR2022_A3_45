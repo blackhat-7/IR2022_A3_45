{
 "cells": [
  {
   "cell_type": "code",
   "execution_count": 14,
   "metadata": {},
   "outputs": [],
   "source": [
    "import tarfile\n",
    "import gzip\n",
    "import shutil\n",
    "import matplotlib.pyplot as plt\n",
    "from collections import Counter"
   ]
  },
  {
   "cell_type": "code",
   "execution_count": 2,
   "metadata": {},
   "outputs": [],
   "source": [
    "def unzip(zipname, outname):\n",
    "    \"\"\"\n",
    "    Unzip a file\n",
    "    \"\"\"\n",
    "    if zipname.endswith('.gz'):\n",
    "        with gzip.open(zipname, 'rb') as f_in:\n",
    "            with open(outname, 'wb') as f_out:\n",
    "                shutil.copyfileobj(f_in, f_out)\n",
    "    elif zipname.endswith('.tar.gz'):\n",
    "        with tarfile.open(zipname, 'r:gz') as tar:\n",
    "            tar.extractall(outname)\n",
    "\n",
    "# unzip(\"../Data/twitter.tar.gz\", \"../Data/twitter.bin\")\n",
    "# unzip(\"../Data/twitter_combined.txt.gz\", \"../Data/twitter_combined.txt\")"
   ]
  },
  {
   "cell_type": "code",
   "execution_count": 9,
   "metadata": {},
   "outputs": [
    {
     "name": "stdout",
     "output_type": "stream",
     "text": [
      "Number of Nodes: 7115\n",
      "Number of Edges: 103689\n"
     ]
    }
   ],
   "source": [
    "def getNodesEdges(filename):\n",
    "    \"\"\"\n",
    "    Get nodes and edges from a file\n",
    "    \"\"\"\n",
    "    nodes = set()\n",
    "    edges = []\n",
    "    with open(filename, 'r') as f:\n",
    "        for line in f:\n",
    "            src, dst = line.strip().split()\n",
    "            nodes.add(src)\n",
    "            nodes.add(dst)\n",
    "            edges.append((src, dst))\n",
    "    print(\"Number of Nodes:\", len(nodes))\n",
    "    print(\"Number of Edges:\", len(edges))\n",
    "    return nodes, edges\n",
    "\n",
    "nodes, edges = getNodesEdges(\"../Data/wiki-Vote.txt\")"
   ]
  },
  {
   "cell_type": "code",
   "execution_count": 31,
   "metadata": {},
   "outputs": [],
   "source": [
    "class Graph:\n",
    "    def __init__(self, nodes, edges):\n",
    "        self.g = {}\n",
    "        for node in nodes:\n",
    "            self.g[node] = []\n",
    "        for edge in edges:\n",
    "            self.addEdge(edge[0], edge[1])\n",
    "        self.nodes = nodes\n",
    "        self.edges = edges\n",
    "\n",
    "    \n",
    "    def addEdge(self, node1, node2):\n",
    "        if node1 not in self.g:\n",
    "            self.g[node1] = [node2]\n",
    "        else:\n",
    "            self.g[node1].append(node2)\n",
    "\n",
    "    def avgInDegree(self):\n",
    "        \"\"\"Average in-degree in directed graph\"\"\"\n",
    "        inDegrees = {}\n",
    "        for node in self.g:\n",
    "            for neighbor in self.g[node]:\n",
    "                if neighbor not in inDegrees:\n",
    "                    inDegrees[neighbor] = 1\n",
    "                else:\n",
    "                    inDegrees[neighbor] += 1\n",
    "        return sum(inDegrees.values()) / len(self.g)\n",
    "\n",
    "    def avgOutDegree(self):\n",
    "        \"\"\"Average out-degree in directed graph\"\"\"\n",
    "        return sum(len(v) for v in self.g.values()) / len(self.g)\n",
    "    \n",
    "    def maxInDegree(self):\n",
    "        inDegrees = {}\n",
    "        for node in self.g:\n",
    "            for neighbor in self.g[node]:\n",
    "                if neighbor not in inDegrees:\n",
    "                    inDegrees[neighbor] = 1\n",
    "                else:\n",
    "                    inDegrees[neighbor] += 1\n",
    "        return max(inDegrees.values())\n",
    "    \n",
    "    def maxOutDegree(self):\n",
    "        return max(len(v) for v in self.g.values())\n",
    "    \n",
    "    def density(self):\n",
    "        \"\"\"Density of the graph\"\"\"\n",
    "        return len(self.edges) / (len(self.nodes) * (len(self.nodes) - 1))\n",
    "    \n",
    "    def plotOutDegreeDistribution(self):\n",
    "        \"\"\"Plot out-degree distribution of the graph\"\"\"\n",
    "        degrees = []\n",
    "        for node in self.g:\n",
    "            degrees.append(len(self.g[node]))\n",
    "        c = Counter(degrees)\n",
    "        plt.bar(c.keys(), c.values())\n",
    "        plt.show()\n",
    "    \n",
    "    def plotInDegreeDistribution(self):\n",
    "        \"\"\"Plot in-degree distribution of the graph\"\"\"\n",
    "        inDegrees = {}\n",
    "        for node in self.g:\n",
    "            for neighbor in self.g[node]:\n",
    "                if neighbor not in inDegrees:\n",
    "                    inDegrees[neighbor] = 1\n",
    "                else:\n",
    "                    inDegrees[neighbor] += 1\n",
    "        inDegrees = list(inDegrees.values())\n",
    "        c = Counter(inDegrees)\n",
    "        plt.bar(c.keys(), c.values())\n",
    "        plt.show()\n",
    "\n",
    "    \n",
    "    def clusteringCoefficient(self, node):\n",
    "        \"\"\"Clustering coefficient of a node\"\"\"\n",
    "        neighbors = self.g[node]\n",
    "        if len(neighbors) == 0:\n",
    "            return 0\n",
    "        else:\n",
    "            return len([nbr for nbr in neighbors if len(self.g[nbr]) > 0]) / len(neighbors)\n",
    "    \n",
    "    def clusteringCoefficientDistribution(self):\n",
    "        \"\"\"Plot clustering coefficient distribution of the graph\"\"\"\n",
    "        cc = []\n",
    "        for node in self.g:\n",
    "            cc.append(self.clusteringCoefficient(node))\n",
    "        c = Counter(cc)\n",
    "        plt.bar(c.keys(), c.values())\n",
    "        plt.show()"
   ]
  },
  {
   "cell_type": "code",
   "execution_count": 32,
   "metadata": {},
   "outputs": [
    {
     "name": "stdout",
     "output_type": "stream",
     "text": [
      "Average In Degree: 14.573295853829936\n",
      "Average Out Degree: 14.573295853829936\n",
      "Max In Degree: 457\n",
      "Max Out Degree: 893\n",
      "Density: 0.0020485375110809584\n"
     ]
    }
   ],
   "source": [
    "graph = Graph(nodes, edges)\n",
    "print(\"Average In Degree:\", graph.avgInDegree())\n",
    "print(\"Average Out Degree:\", graph.avgOutDegree())\n",
    "print(\"Max In Degree:\", graph.maxInDegree())\n",
    "print(\"Max Out Degree:\", graph.maxOutDegree())\n",
    "print(\"Density:\", graph.density())"
   ]
  },
  {
   "cell_type": "code",
   "execution_count": 33,
   "metadata": {},
   "outputs": [
    {
     "data": {
      "image/png": "[encoded data removed]",
      "text/plain": [
       "<Figure size 432x288 with 1 Axes>"
      ]
     },
     "metadata": {
      "needs_background": "light"
     },
     "output_type": "display_data"
    },
    {
     "data": {
      "image/png": "[encoded data removed]",
      "text/plain": [
       "<Figure size 432x288 with 1 Axes>"
      ]
     },
     "metadata": {
      "needs_background": "light"
     },
     "output_type": "display_data"
    },
    {
     "data": {
      "text/plain": [
       "(None, None)"
      ]
     },
     "execution_count": 33,
     "metadata": {},
     "output_type": "execute_result"
    }
   ],
   "source": [
    "graph.plotInDegreeDistribution(), graph.plotOutDegreeDistribution()"
   ]
  },
  {
   "cell_type": "code",
   "execution_count": 34,
   "metadata": {},
   "outputs": [
    {
     "data": {
      "image/png": "[encoded data removed]",
      "text/plain": [
       "<Figure size 432x288 with 1 Axes>"
      ]
     },
     "metadata": {
      "needs_background": "light"
     },
     "output_type": "display_data"
    }
   ],
   "source": [
    "graph.clusteringCoefficientDistribution()"
   ]
  },
  {
   "cell_type": "code",
   "execution_count": null,
   "metadata": {},
   "outputs": [],
   "source": []
  },
  {
   "cell_type": "code",
   "execution_count": null,
   "metadata": {},
   "outputs": [],
   "source": []
  }
 ],
 "metadata": {
  "interpreter": {
   "hash": "ecbb0100d1afdd2500b7e44462920f8a5c3170e79139b35521f055287792d739"
  },
  "kernelspec": {
   "display_name": "Python 3.9.2 ('sw')",
   "language": "python",
   "name": "python3"
  },
  "language_info": {
   "codemirror_mode": {
    "name": "ipython",
    "version": 3
   },
   "file_extension": ".py",
   "mimetype": "text/x-python",
   "name": "python",
   "nbconvert_exporter": "python",
   "pygments_lexer": "ipython3",
   "version": "3.8.5"
  },
  "orig_nbformat": 4
 },
 "nbformat": 4,
 "nbformat_minor": 2
}
